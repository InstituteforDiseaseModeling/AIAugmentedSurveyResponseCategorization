{
 "cells": [
  {
   "cell_type": "code",
   "execution_count": 49,
   "id": "9151a1d7",
   "metadata": {},
   "outputs": [],
   "source": [
    "## Load essential packages ##\n",
    "\n",
    "%reset -f\n",
    "\n",
    "import os\n",
    "import openai\n",
    "import pandas as pd"
   ]
  },
  {
   "cell_type": "code",
   "execution_count": 50,
   "id": "d435bf67",
   "metadata": {},
   "outputs": [],
   "source": [
    "# Setup the Openai client to query the embeddings API \n",
    "\n",
    "\n",
    "from openai import OpenAI\n",
    "\n",
    "client = OpenAI(api_key = os.getenv(\"OPENAI_API_KEY\"), organization = os.getenv(\"OPENAI_ORGANIZATION\"))\n",
    "\n",
    "def request_completionT(prompt):\n",
    "\n",
    "    response = client.embeddings.create(\n",
    "        input=prompt,\n",
    "        model=\"text-embedding-3-large\"\n",
    "    )\n",
    "    \n",
    "    return response.data[0].embedding\n"
   ]
  },
  {
   "cell_type": "code",
   "execution_count": 51,
   "id": "5cccf5e6-b2e0-4a40-8690-4d9853f503f9",
   "metadata": {},
   "outputs": [],
   "source": [
    "# Open the datafile, read the responses, and put into a format to pass to the OpenAI client for embeddings\n",
    "\n",
    "import csv\n",
    "from io import StringIO\n",
    "\n",
    "#RealResponses = pd.read_csv('reasons_nonvx_otherAlt.csv',encoding='utf-8') \n",
    "RealResponses = pd.read_csv('ecv_reasons_novx 1Clean.csv',encoding='ISO-8859-1') \n",
    "\n",
    "with open('ecv_reasons_novx 1.csv', 'r', encoding='utf-8', errors='ignore') as file:\n",
    "    content = file.read()\n",
    "\n",
    "# Assuming 'content' is your CSV file content as a string\n",
    "content_io = StringIO(content)\n",
    "\n",
    "# Create a CSV DictReader object\n",
    "reader = csv.DictReader(content_io)\n",
    "\n",
    "rows = list(reader)\n",
    "\n",
    "#print(RealResponses.head(10))"
   ]
  },
  {
   "cell_type": "code",
   "execution_count": null,
   "id": "f2225bd0-1923-4f8b-a06e-f856e55575ae",
   "metadata": {},
   "outputs": [],
   "source": [
    "# Acquire the embeddings for each response in the dataset.  Note that you can pass multiple responses at once, but here I've only passed one at a time.\n",
    "\n",
    "import numpy as np\n",
    "import re\n",
    "\n",
    "rowsData = []\n",
    "\n",
    "for index in range(0,len(RealResponses)):\n",
    "\n",
    "    batchStrings = str(rows[index]['reason'])\n",
    "    assistantResponse = request_completionT(batchStrings)\n",
    "\n",
    "    rowsData.append(assistantResponse)\n",
    "    print(index)\n",
    "\n",
    "matrix = np.array(rowsData)\n",
    "\n",
    "# Save the array to a CSV file\n",
    "np.savetxt(\"embeddingsLarge_LargeResponseSet.csv\", matrix, delimiter=',', fmt='%.15f')\n"
   ]
  }
 ],
 "metadata": {
  "kernelspec": {
   "display_name": "Python 3 (ipykernel)",
   "language": "python",
   "name": "python3"
  },
  "language_info": {
   "codemirror_mode": {
    "name": "ipython",
    "version": 3
   },
   "file_extension": ".py",
   "mimetype": "text/x-python",
   "name": "python",
   "nbconvert_exporter": "python",
   "pygments_lexer": "ipython3",
   "version": "3.12.2"
  }
 },
 "nbformat": 4,
 "nbformat_minor": 5
}
